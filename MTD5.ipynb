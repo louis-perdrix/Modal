{
  "cells": [
    {
      "cell_type": "markdown",
      "metadata": {
        "id": "view-in-github",
        "colab_type": "text"
      },
      "source": [
        "<a href=\"https://colab.research.google.com/github/louis-perdrix/Modal/blob/main/MTD5.ipynb\" target=\"_parent\"><img src=\"https://colab.research.google.com/assets/colab-badge.svg\" alt=\"Open In Colab\"/></a>"
      ]
    },
    {
      "cell_type": "markdown",
      "metadata": {
        "id": "7RAwNglqtKwd"
      },
      "source": [
        "# TD 5: Transformers for computer vision\n",
        "By Nicolas Dufour, Vicky Kalogeiton and Pascal Vannier\n",
        "\n",
        "In this TD, we will implement the Transformers architecture. Transformers has been a key architecture in deep learning for the past 5 years. \n",
        "\n",
        "It has first began with NLP, then came audio and finally, since 2020, computer vision.\n",
        "We will implement every block that makes a transformer from scratch and we will try to create a deep understanding of what is happening.\n",
        "Here is a diagram for the transformer architecture:\n",
        "\n",
        "<img src=\"https://www.researchgate.net/profile/Miruna-Gheata/publication/355339249/figure/fig1/AS:1079476452622337@1634378650979/Encoder-decoder-architecture-of-the-Transformer-developed-by-Vaswani-et-al-28.ppm\" width=768>"
      ]
    },
    {
      "cell_type": "markdown",
      "metadata": {
        "id": "GCHYwGaVtKwh"
      },
      "source": [
        "## Instructions\n",
        "As stated before, in pytorch you must achieve for loops at all cost. It's almost always possible to find a vectorized version of the operation you want to implement.\n",
        "In this TP, the only for-loop you can do is the training loop."
      ]
    },
    {
      "cell_type": "code",
      "execution_count": null,
      "metadata": {
        "colab": {
          "base_uri": "https://localhost:8080/"
        },
        "id": "J1cxm1OAtKwh",
        "outputId": "5b6edbd8-c409-4313-cb3c-2faeeae300da"
      },
      "outputs": [
        {
          "output_type": "stream",
          "name": "stdout",
          "text": [
            "Looking in indexes: https://pypi.org/simple, https://us-python.pkg.dev/colab-wheels/public/simple/\n",
            "Collecting einops\n",
            "  Downloading einops-0.6.0-py3-none-any.whl (41 kB)\n",
            "\u001b[2K     \u001b[90m━━━━━━━━━━━━━━━━━━━━━━━━━━━━━━━━━━━━━━━━\u001b[0m \u001b[32m41.6/41.6 kB\u001b[0m \u001b[31m3.3 MB/s\u001b[0m eta \u001b[36m0:00:00\u001b[0m\n",
            "\u001b[?25hInstalling collected packages: einops\n",
            "Successfully installed einops-0.6.0\n",
            "Looking in indexes: https://pypi.org/simple, https://us-python.pkg.dev/colab-wheels/public/simple/\n",
            "Collecting timm\n",
            "  Downloading timm-0.6.13-py3-none-any.whl (549 kB)\n",
            "\u001b[2K     \u001b[90m━━━━━━━━━━━━━━━━━━━━━━━━━━━━━━━━━━━━━━\u001b[0m \u001b[32m549.1/549.1 kB\u001b[0m \u001b[31m20.9 MB/s\u001b[0m eta \u001b[36m0:00:00\u001b[0m\n",
            "\u001b[?25hRequirement already satisfied: torch>=1.7 in /usr/local/lib/python3.9/dist-packages (from timm) (2.0.0+cu118)\n",
            "Requirement already satisfied: pyyaml in /usr/local/lib/python3.9/dist-packages (from timm) (6.0)\n",
            "Requirement already satisfied: torchvision in /usr/local/lib/python3.9/dist-packages (from timm) (0.15.1+cu118)\n",
            "Collecting huggingface-hub\n",
            "  Downloading huggingface_hub-0.13.4-py3-none-any.whl (200 kB)\n",
            "\u001b[2K     \u001b[90m━━━━━━━━━━━━━━━━━━━━━━━━━━━━━━━━━━━━━━\u001b[0m \u001b[32m200.1/200.1 kB\u001b[0m \u001b[31m21.3 MB/s\u001b[0m eta \u001b[36m0:00:00\u001b[0m\n",
            "\u001b[?25hRequirement already satisfied: typing-extensions in /usr/local/lib/python3.9/dist-packages (from torch>=1.7->timm) (4.5.0)\n",
            "Requirement already satisfied: filelock in /usr/local/lib/python3.9/dist-packages (from torch>=1.7->timm) (3.11.0)\n",
            "Requirement already satisfied: jinja2 in /usr/local/lib/python3.9/dist-packages (from torch>=1.7->timm) (3.1.2)\n",
            "Requirement already satisfied: sympy in /usr/local/lib/python3.9/dist-packages (from torch>=1.7->timm) (1.11.1)\n",
            "Requirement already satisfied: triton==2.0.0 in /usr/local/lib/python3.9/dist-packages (from torch>=1.7->timm) (2.0.0)\n",
            "Requirement already satisfied: networkx in /usr/local/lib/python3.9/dist-packages (from torch>=1.7->timm) (3.1)\n",
            "Requirement already satisfied: cmake in /usr/local/lib/python3.9/dist-packages (from triton==2.0.0->torch>=1.7->timm) (3.25.2)\n",
            "Requirement already satisfied: lit in /usr/local/lib/python3.9/dist-packages (from triton==2.0.0->torch>=1.7->timm) (16.0.1)\n",
            "Requirement already satisfied: tqdm>=4.42.1 in /usr/local/lib/python3.9/dist-packages (from huggingface-hub->timm) (4.65.0)\n",
            "Requirement already satisfied: packaging>=20.9 in /usr/local/lib/python3.9/dist-packages (from huggingface-hub->timm) (23.0)\n",
            "Requirement already satisfied: requests in /usr/local/lib/python3.9/dist-packages (from huggingface-hub->timm) (2.27.1)\n",
            "Requirement already satisfied: pillow!=8.3.*,>=5.3.0 in /usr/local/lib/python3.9/dist-packages (from torchvision->timm) (8.4.0)\n",
            "Requirement already satisfied: numpy in /usr/local/lib/python3.9/dist-packages (from torchvision->timm) (1.22.4)\n",
            "Requirement already satisfied: MarkupSafe>=2.0 in /usr/local/lib/python3.9/dist-packages (from jinja2->torch>=1.7->timm) (2.1.2)\n",
            "Requirement already satisfied: urllib3<1.27,>=1.21.1 in /usr/local/lib/python3.9/dist-packages (from requests->huggingface-hub->timm) (1.26.15)\n",
            "Requirement already satisfied: charset-normalizer~=2.0.0 in /usr/local/lib/python3.9/dist-packages (from requests->huggingface-hub->timm) (2.0.12)\n",
            "Requirement already satisfied: certifi>=2017.4.17 in /usr/local/lib/python3.9/dist-packages (from requests->huggingface-hub->timm) (2022.12.7)\n",
            "Requirement already satisfied: idna<4,>=2.5 in /usr/local/lib/python3.9/dist-packages (from requests->huggingface-hub->timm) (3.4)\n",
            "Requirement already satisfied: mpmath>=0.19 in /usr/local/lib/python3.9/dist-packages (from sympy->torch>=1.7->timm) (1.3.0)\n",
            "Installing collected packages: huggingface-hub, timm\n",
            "Successfully installed huggingface-hub-0.13.4 timm-0.6.13\n"
          ]
        }
      ],
      "source": [
        "!pip install einops\n",
        "!pip install timm"
      ]
    },
    {
      "cell_type": "code",
      "execution_count": null,
      "metadata": {
        "id": "nPtlJMwDtKwj"
      },
      "outputs": [],
      "source": [
        "import torch\n",
        "import torch.nn as nn\n",
        "import torch.nn.functional as F\n",
        "from torch.optim import AdamW\n",
        "import math\n",
        "from torchvision.datasets import CIFAR10\n",
        "from torch.utils.data import DataLoader\n",
        "from torchvision import transforms\n",
        "from tqdm import tqdm\n",
        "import matplotlib.pyplot as plt\n",
        "import numpy as np\n",
        "from einops import rearrange, repeat\n",
        "from PIL import Image\n",
        "from torchvision import transforms\n",
        "import requests\n",
        "from io import BytesIO\n",
        "from torchvision.models.feature_extraction import get_graph_node_names, create_feature_extractor\n",
        "import timm\n",
        "\n"
      ]
    },
    {
      "cell_type": "markdown",
      "metadata": {
        "id": "TK_bt1WxtKwj"
      },
      "source": [
        "## The Transformer model from the paper Attention is All You Need."
      ]
    },
    {
      "cell_type": "markdown",
      "metadata": {
        "id": "sJ5tEgg_tKwk"
      },
      "source": [
        "### Attention"
      ]
    },
    {
      "cell_type": "markdown",
      "metadata": {
        "id": "U-ynN_iNtKwk"
      },
      "source": [
        "The transformer architecture is built around one key block: The attention.\n",
        "The idea behind attention is the following. Imagine you want to retrieve information from a dictionary. The dictionnary is indexed by keys which maps to a particular value. Now, you have a query which will be matched against the keys of the dict and if you have a match, you will retrieve the associated value.\n",
        "Attention is very similar to this simple retrieval example. Now, with real data, we don't have this structure, we however are going to learn to create it. \n",
        "\n",
        "We have 2 sets of vectors (also named tokens). One is $X_{to}$ which is the destination set. We want to be able to map this set of tokens to queries. We achieve this by doing a linear projection of $X_{to}$. $Q = W_QX_{to}$\n",
        "\n",
        "The other set is $X_{from}$ the set from which we want to retrieve information. We will need to extract both keys and values from this set. We therefore do 2 linear projections of $X_{from}$. $K = W_KX_{from}$ and $V = W_VX_{from}$.\n",
        "\n",
        "Now, contrary to the dictionnary where queries and values are exact matchs, we don't have this here. Therefore, we will perform a softer match by computing the similarity matrix between $Q$ and $K$. Then for each $Q$, we want to output the values that have the higher similarity. We therefore output the weighted sum of the values, weighted by the softmax of the similarity (also called the attention matrix).\n",
        "\n",
        "Finally, the attention operation is given by the cross attention:\n",
        "\n",
        "$$\n",
        "A(Q,K,V) = SoftMax(\\frac{Q^TK}{\\sqrt{d_k}})V\n",
        "$$\n",
        "\n",
        "We divide the similarity by $\\sqrt{d_k}$ for stability reason to avoid the similarity to explode with big vectors which would lead to very sharp attention coeficients."
      ]
    },
    {
      "cell_type": "markdown",
      "metadata": {
        "id": "YudNWc3btKwl"
      },
      "source": [
        "##### Question 1:\n",
        "Implement the attention operation.\n",
        "\n",
        "Tip: Look into `torch.einsum` to easily compute the similarity matrix."
      ]
    },
    {
      "cell_type": "code",
      "execution_count": null,
      "metadata": {
        "id": "LJlahwcutKwl"
      },
      "outputs": [],
      "source": [
        "class Attention(nn.Module):\n",
        "    def __init__(self, x_to_dim, x_from_dim, hidden_dim,):\n",
        "        super().__init__()\n",
        "        self.linq = nn.Linear(x_to_dim, hidden_dim)\n",
        "        self.link = nn.Linear(x_from_dim, hidden_dim)\n",
        "        self.linv = nn.Linear(x_from_dim, hidden_dim)\n",
        "        self.hidden_dim = hidden_dim\n",
        "\n",
        "    def forward(self, x_to, x_from):\n",
        "        # x_to = [batch size, x_to_len, x_to_dim]\n",
        "        # x_from = [batch size, x_from_len, x_from_dim]\n",
        "        q = self.linq(x_to)\n",
        "        k = self.link(x_from)\n",
        "        v = self.linv(x_from)\n",
        "        a = torch.einsum('bij, bkj -> bik', q, k)\n",
        "        a = F.softmax(a/np.sqrt(self.hidden_dim), dim=1)\n",
        "        x_to = torch.einsum('bij, bjk -> bik', a, v)\n",
        "        return x_to"
      ]
    },
    {
      "cell_type": "code",
      "source": [
        "model = Attention(32, 256, 64)\n",
        "x_to = torch.randn(10, 64, 32)\n",
        "x_from = torch.randn(10, 32, 256)\n",
        "x_out = model(x_to, x_from)\n",
        "assert x_out.shape == torch.Size([10, 64, 64])"
      ],
      "metadata": {
        "id": "XTSQKA3EILkW"
      },
      "execution_count": null,
      "outputs": []
    },
    {
      "cell_type": "markdown",
      "source": [],
      "metadata": {
        "id": "IEewHhwE1eng"
      }
    },
    {
      "cell_type": "markdown",
      "metadata": {
        "id": "ewDx6VOZtKwl"
      },
      "source": [
        "#### Multi-head attention\n",
        "\n",
        "We improve the above attention implementation by introducing mult-head attention. The idea here is that we compute the attention on subspaces of the $Q,K,V$ triplets. \n",
        "We split each vector in n subsets and compute the attention for each subset. At the end, we concatenate every attention output and project it with an output projection.\n",
        "\n",
        "##### Question 2\n",
        "Implement Multihead attention."
      ]
    },
    {
      "cell_type": "code",
      "execution_count": null,
      "metadata": {
        "id": "k5LgaxpKtKwm"
      },
      "outputs": [],
      "source": [
        "class MultiHeadAttention(nn.Module):\n",
        "    def __init__(self, x_to_dim, x_from_dim, hidden_dim, n_heads):\n",
        "        super().__init__()\n",
        "        #on suppose que hidden_dim/n_heads == 0\n",
        "        self.linq = nn.Linear(x_to_dim, hidden_dim)\n",
        "        self.link = nn.Linear(x_from_dim, hidden_dim)\n",
        "        self.linv = nn.Linear(x_from_dim, hidden_dim)\n",
        "        self.linout = nn.Linear(hidden_dim, hidden_dim)\n",
        "        self.hidden_dim = hidden_dim\n",
        "        self.n_heads = n_heads\n",
        "        self.subset = hidden_dim//n_heads\n",
        "\n",
        "\n",
        "    def forward(self, x_to, x_from):\n",
        "        # x_to = [batch size, x_to_len, x_to_dim]\n",
        "        # x_from = [batch size, x_from_len, x_from_dim]\n",
        "        batch_size = x_to.size(0)\n",
        "        x_to_len = x_to.size(1)\n",
        "        x_from_len = x_from.size(1)\n",
        "\n",
        "        q = self.linq(x_to)\n",
        "        k = self.link(x_from)\n",
        "        v = self.linv(x_from)\n",
        "        #on cree les subsets\n",
        "        q = q.view(batch_size, x_to_len, self.n_heads, self.subset)\n",
        "        k = k.view(batch_size, x_from_len, self.n_heads, self.subset)\n",
        "        v = v.view(batch_size, x_from_len, self.n_heads, self.subset)\n",
        "        #on arrange les dimensions pour compute l'attention\n",
        "        q = q.transpose(1, 2)\n",
        "        k = k.transpose(1, 2)\n",
        "        v = v.transpose(1, 2)\n",
        "        a = torch.einsum('bikl, biml -> bikm', q, k)   #[batch_size, n_heads, x_tolen, x_fromlen]\n",
        "        a = F.softmax(a/np.sqrt(self.subset), dim=1)\n",
        "        x_to = torch.einsum('bijk, bikl -> bijl', a, v)   #[batch_size, n_heads, x_tolen, x_subset]\n",
        "        x_to = x_to.transpose(1,2)  #[batch_size, x_to_len, n_heads, x_subset]\n",
        "        x_to = x_to.reshape(batch_size, x_to_len, self.hidden_dim)\n",
        "        x_to = self.linout(x_to)\n",
        "        return x_to"
      ]
    },
    {
      "cell_type": "code",
      "source": [
        "model = MultiHeadAttention(32, 256, 64, 8)\n",
        "x_to = torch.randn(10, 64, 32)\n",
        "x_from = torch.randn(10, 32, 256)\n",
        "x_out = model(x_to, x_from)\n",
        "assert x_out.shape == torch.Size([10, 64, 64])"
      ],
      "metadata": {
        "id": "sAJuLdR-EDY_"
      },
      "execution_count": null,
      "outputs": []
    },
    {
      "cell_type": "markdown",
      "metadata": {
        "id": "PB63HLh2tKwm"
      },
      "source": [
        "MultiheadAttention is the attention that is used in transformers in pratice. It is used in 2 flavors:\n",
        "- Self Attention: When $X_{to}$ attends itself ($X_{to}=X_{from}$)\n",
        "- Cross Attention. $X_{to}\\neq X_{from}$\n",
        "\n",
        "\n",
        "##### Question 3: Implement MultiHead Self Attention and MultiHeadCrossAttention from Multihead attention"
      ]
    },
    {
      "cell_type": "code",
      "execution_count": null,
      "metadata": {
        "id": "mA0sJbomtKwm"
      },
      "outputs": [],
      "source": [
        "class MultiHeadSelfAttention(MultiHeadAttention):\n",
        "  def __init__(self, x_to_dim, hidden_dim, n_heads):\n",
        "    super().__init__(x_to_dim, x_to_dim, hidden_dim, n_heads)\n",
        "\n",
        "  def forward(self, x_to):\n",
        "    return super().forward(x_to, x_to)\n",
        "\n",
        "\n",
        "class MultiHeadCrossAttention(MultiHeadAttention):\n",
        "  def __init__(self, x_to_dim, x_from_dim, hidden_dim, n_heads):\n",
        "    super().__init__(x_to_dim, x_from_dim, hidden_dim, n_heads)\n",
        "\n",
        "  def forward(self, x_to, x_from):\n",
        "    return super().forward(x_to, x_from)"
      ]
    },
    {
      "cell_type": "code",
      "source": [
        "MultiHeadCrossAttention(3, 4, 6, 2)"
      ],
      "metadata": {
        "colab": {
          "base_uri": "https://localhost:8080/"
        },
        "id": "xEH7W6iip0dy",
        "outputId": "d55d2956-daa6-4c9f-ef36-521c1aa27052"
      },
      "execution_count": null,
      "outputs": [
        {
          "output_type": "execute_result",
          "data": {
            "text/plain": [
              "MultiHeadCrossAttention(\n",
              "  (linq): Linear(in_features=3, out_features=6, bias=True)\n",
              "  (link): Linear(in_features=4, out_features=6, bias=True)\n",
              "  (linv): Linear(in_features=4, out_features=6, bias=True)\n",
              "  (linout): Linear(in_features=6, out_features=6, bias=True)\n",
              ")"
            ]
          },
          "metadata": {},
          "execution_count": 10
        }
      ]
    },
    {
      "cell_type": "markdown",
      "metadata": {
        "id": "RbOVkvcVtKwm"
      },
      "source": [
        "### LayerNorm\n",
        "Another key component of the transformer is the LayerNorm. As we have previously seen, normalizing the output of a deep learning layer helps a lot with convergence and stability. \n",
        "Until Transformers, the most used normalization is BatchNorm. We normalize the data among the batch dimension. However, this has a few problems.\n",
        "- The normalization depend on the other samples in the batch\n",
        "- When using multiple GPUs, BatchNorm needs to synchronize the batch statistic across GPUs, which locks the forward process and slow down training.\n",
        "\n",
        "The last element is the most important one. Transformers, aims to be a easy to parralilize architecture and can't afford to use batchnorm.\n",
        "\n",
        "Instead, Transformers uses Layer Norm. LayerNorm is sample dependent, which removes the synchronization issue. We normalize over the channel dimension instead of the batch dimension.\n",
        "\n",
        "<img src=\"https://production-media.paperswithcode.com/methods/Screen_Shot_2020-05-19_at_4.24.42_PM.png\">\n",
        "\n",
        "To account for the loss of capacity, we map the output by a linear transformation with a learned bias and scale.\n",
        "\n",
        "##### Question 4:\n",
        "Implement the LayerNorm"
      ]
    },
    {
      "cell_type": "code",
      "execution_count": null,
      "metadata": {
        "id": "BpN8mQB1tKwn"
      },
      "outputs": [],
      "source": [
        "class LayerNorm(nn.Module):\n",
        "  def __init__(self, output_size):\n",
        "    super().__init__()\n",
        "    self.lin = nn.Linear(output_size, output_size)\n",
        "\n",
        "\n",
        "  def forward(self, x):\n",
        "      mean = x.mean(-1, keepdim=True)\n",
        "      std = x.std(-1, keepdim=True)\n",
        "      x = (x - mean) / std \n",
        "      x = self.lin(x)\n",
        "      return x"
      ]
    },
    {
      "cell_type": "code",
      "source": [
        "model = LayerNorm(10)\n",
        "x = torch.randn(10, 8, 10)\n",
        "x = model(x)\n",
        "assert x.shape == torch.Size([10, 8, 10])"
      ],
      "metadata": {
        "id": "Dkt9MjZG55Ze"
      },
      "execution_count": null,
      "outputs": []
    },
    {
      "cell_type": "markdown",
      "metadata": {
        "id": "qOw99PI5tKwn"
      },
      "source": [
        "### Feed Feedward Network\n",
        "\n",
        "Finally, the last block is a feed-forward network with one hidden layer. This layer has usually a size of $2 * input\\_dim$. This is followed by a dropout layer and an activation function. Here, we will use leaky relu, with a leak parameter of 0.1.\n",
        "##### Question 5: Implement the FFN layer"
      ]
    },
    {
      "cell_type": "code",
      "execution_count": null,
      "metadata": {
        "id": "AXD1o_wztKwn"
      },
      "outputs": [],
      "source": [
        "class FFN(torch.nn.Module):\n",
        "    def __init__(self, hidden_dim, dropout_rate=0.1, expansion_factor=2):\n",
        "        super().__init__()\n",
        "        self.lin1 = torch.nn.Linear(hidden_dim, 2*hidden_dim)\n",
        "        self.lin2 = torch.nn.Linear(2*hidden_dim, hidden_dim)\n",
        "        self.relu = torch.nn.LeakyReLU(dropout_rate)\n",
        "\n",
        "    def forward(self, x):\n",
        "        x = self.lin1(x)\n",
        "        x = self.relu(x)\n",
        "        x = self.lin2(x)\n",
        "        return x        "
      ]
    },
    {
      "cell_type": "code",
      "source": [
        "model = FFN(6)\n",
        "x = torch.randn(10, 8, 6)\n",
        "x = model(x)\n",
        "assert x.shape == torch.Size([10, 8, 6])"
      ],
      "metadata": {
        "id": "QC1onKrU7txf"
      },
      "execution_count": null,
      "outputs": []
    },
    {
      "cell_type": "markdown",
      "metadata": {
        "id": "SjSjOOWYtKwn"
      },
      "source": [
        "### The Transformer block\n",
        "\n",
        "The last thing that we are missing are the skip connection. Like in ResNet, the transformer architecture implements the skip-connection. This allow for a better gradient flow avoiding vanishing gradient.\n",
        "There is a skip connection after the attention and the feed forward network\n",
        "\n",
        "##### Question 6.\n",
        "Looking at the transformer figure, implement the Transformer Encoder Block\n"
      ]
    },
    {
      "cell_type": "code",
      "execution_count": null,
      "metadata": {
        "id": "Azhav4jHtKwn"
      },
      "outputs": [],
      "source": [
        "class TransformerEncoderBlock(nn.Module):\n",
        "    def __init__(self,data_dim, hidden_dim, n_heads, dropout_rate=0.1):\n",
        "       super().__init__()\n",
        "       self.attention_self = MultiHeadSelfAttention(data_dim, hidden_dim, n_heads)\n",
        "       self.norm = LayerNorm(hidden_dim)\n",
        "       self.MLP = FFN(hidden_dim, dropout_rate)\n",
        "    \n",
        "    def forward(self, x):\n",
        "        # x = [batch size, x_len, hidden dim]\n",
        "        residual = x\n",
        "        x = self.attention_self(x) # x = [batch size, x_len, hidden dim]\n",
        "        x += residual\n",
        "        x = self.norm(x)\n",
        "        residual2 = x\n",
        "        x = self.MLP(x)\n",
        "        x += residual2\n",
        "        x = self.norm(x)\n",
        "        return x\n"
      ]
    },
    {
      "cell_type": "code",
      "source": [
        "model = TransformerEncoderBlock(6, 6, 2)\n",
        "x = torch.randn(10, 8, 6)\n",
        "x = model(x)\n",
        "assert x.shape == torch.Size([10, 8, 6])"
      ],
      "metadata": {
        "id": "OR8uoQif8mZ5"
      },
      "execution_count": null,
      "outputs": []
    },
    {
      "cell_type": "markdown",
      "metadata": {
        "id": "323MRVjztKwo"
      },
      "source": [
        "# Positional embedding\n",
        "The transformers architecture is permutation independent. That means that for every token, we can swap 2 tokens and have the exact same result. However, the position of the token can be a very important information to consider. Imagine in an image. If a pixel is nearby another pixel, we want the transformer to be able to capture such information. Which is not the case for now.\n",
        "That's why we introduce positional encodings. For each token, add the positional encoding to the original token:\n",
        "\n",
        "\n",
        "\n",
        "$X_i = X_i + PE(i)$\n",
        "\n",
        "\n",
        "\n",
        "with X_i the token at the i dimension.\n",
        "\n",
        "The most used positional encodings are sinusoidal encodings. They are defined as follow:\n",
        "\n",
        "\n",
        "$PE(i, 2j) = sin(i / 10000^{\\frac{2j}{d}}) $ \\\\\n",
        "$PE(i, 2j + 1) = cos(i / 10000^{\\frac{2j}{d}})$\n",
        "\n",
        "\n",
        "\n",
        "Where $d$ the dimension of the tokens, $i$, the i-th token in the sequence and $2j$ (resp $2j + 1$), the index of the dimension of the vector.\n",
        "The idea here is that we add a sinusoidal that encode the position in a multidimensional array.\n",
        "\n",
        "Another common positional encodings is the learned positional encoding. Simply, we let the network learn a set of tensor $PE$ that match the sequence length and dimension of the tokens.\n",
        "\n",
        "##### Question 7. \n",
        "\n",
        "Implement both Sinusoidal and Learned positional embeddings"
      ]
    },
    {
      "cell_type": "code",
      "execution_count": null,
      "metadata": {
        "id": "TF8n5aeBtKwo"
      },
      "outputs": [],
      "source": [
        "class SinusoidalPositionalEncoding(nn.Module):\n",
        "    def __init__(self, hidden_dim):\n",
        "        super().__init__()\n",
        "        self.hidden_dim = hidden_dim \n",
        "\n",
        "    def forward(self, x):\n",
        "        size = x.size(1) #x [batch, size, hidden_dim]\n",
        "        #dim = x.size(2)\n",
        "        pos_enc = torch.zeros(size, self.hidden_dim, dtype=torch.float) #on cree le tableau avec les signatures de position taille [size, hidden_dim]\n",
        "        # dim ou hidden_dim?\n",
        "        i = torch.arange(0, size) # on cree un tableau des indices des tokens, taille [size]\n",
        "        i = i.unsqueeze(1) # taille [size, 1]\n",
        "        div = torch.exp(torch.arange(0, self.hidden_dim, 2).float() * (-math.log(10000.0) / self.hidden_dim)) # taille [hidden_dim // 2]\n",
        "        pos_enc[:, ::2] = torch.sin(i*div) # on remplit size * hidden_dim // 2 cases \n",
        "        pos_enc[:, 1::2] = torch.cos(i*div) \n",
        "        pos_enc = pos_enc.unsqueeze(0) # taille [1, size, hidden_dim] pour l'addition \n",
        "        return x + pos_enc # taille [batch, size, dim]\n",
        "\n",
        "class LearnedPositionalEncoding(nn.Module):\n",
        "    def __init__(self, hidden_dim, max_len):\n",
        "        super().__init__()\n",
        "        self.hidden_dim = hidden_dim\n",
        "        self.max_len = max_len\n",
        "        self.embedding = nn.Embedding(max_len, hidden_dim)\n",
        "\n",
        "    def forward(self, x):\n",
        "        size = x.size(1)\n",
        "        pos = torch.arange(0, size)\n",
        "        pos = pos.unsqueeze(0).expand_as(x)\n",
        "        pos_enc = self.embedding(pos)\n",
        "        return x + pos_enc\n"
      ]
    },
    {
      "cell_type": "code",
      "source": [
        "model = SinusoidalPositionalEncoding(6)\n",
        "x = torch.randn(10, 8, 6)\n",
        "x = model(x)\n",
        "assert x.shape == torch.Size([10, 8, 6])"
      ],
      "metadata": {
        "id": "N_j7rZwF-vah"
      },
      "execution_count": null,
      "outputs": []
    },
    {
      "cell_type": "markdown",
      "metadata": {
        "id": "82-V-dFmtKwo"
      },
      "source": [
        "### The transformer encoder\n",
        "Now you have everything you need to implement the transformer . You add positional encoding to the tokens and then stack N transformer encoder layers\n",
        "\n",
        "##### Question 8. \n",
        "Implement the transformer encoder with n_layers and the ability to choose both positional embeddings.\n",
        "\n",
        "Tip: Look into `ModuleList`"
      ]
    },
    {
      "cell_type": "code",
      "execution_count": null,
      "metadata": {
        "id": "AMkdOjYytKwo"
      },
      "outputs": [],
      "source": [
        "class TransformerEncoder(nn.Module):\n",
        "    def __init__(self, data_dim,  hidden_dim, n_heads, n_layers, dropout_rate=0.1, positional_encoding=\"sinusoidal\", max_len=1000):\n",
        "        super().__init__()\n",
        "        self.encoder = nn.ModuleList([TransformerEncoderBlock(hidden_dim, hidden_dim, n_heads, dropout_rate) for i in range(n_heads)])\n",
        "        if positional_encoding == \"sinusoidal\":\n",
        "          self.pos_encoder = SinusoidalPositionalEncoding(hidden_dim)\n",
        "        elif positional_encoding == \"learned\":\n",
        "          self.pos_encoder = LearnedPositionalEncoding(hidden_dim, max_len)\n",
        "        self.lin = nn.Linear(data_dim, hidden_dim)\n",
        "        self.hidden_dim = hidden_dim\n",
        "\n",
        "    def forward(self, x):\n",
        "        x = self.lin(x)\n",
        "        x = self.pos_encoder(x)\n",
        "        for i, encoder in enumerate(self.encoder):\n",
        "          x = encoder(x)\n",
        "        return x"
      ]
    },
    {
      "cell_type": "code",
      "source": [
        "model = TransformerEncoder(8, 6, 2, 5)\n",
        "x = torch.randn(10, 8, 8)\n",
        "x = model(x)\n",
        "assert x.shape == torch.Size([10, 8, 6])"
      ],
      "metadata": {
        "colab": {
          "base_uri": "https://localhost:8080/"
        },
        "id": "i9_bKa6Y_DjV",
        "outputId": "180b8934-95e6-4bcf-c264-0e4a08da5966"
      },
      "execution_count": null,
      "outputs": [
        {
          "output_type": "stream",
          "name": "stdout",
          "text": [
            "torch.Size([10, 8, 8])\n",
            "torch.Size([10, 8, 6])\n",
            "torch.Size([10, 8, 6])\n",
            "torch.Size([10, 8, 6])\n",
            "torch.Size([10, 8, 6])\n"
          ]
        }
      ]
    },
    {
      "cell_type": "markdown",
      "metadata": {
        "id": "hRRJrYUhtKwq"
      },
      "source": [
        "## The Vision Transformer\n",
        "The above architecture was introduced in 2017 to process sequences of text tokens. However, it could be useful to be able to leverage this architecture for computer vision. On the contrary of convolutional neural network, the transformer has the advantage to introduce less inductive bias.\n",
        "\n",
        "This could be interesting to leverage to improve vision systems. If we learn the biases from the data, we can hope to have better performances. We however need compute and a lot of data to do this.\n",
        "\n",
        "To apply the transformer to images, one key question remains to be answered: How do we transform an image to tokens? The approach introduce in Vision Transformers is to cut the image into patches that are then transformed into a token trhought a linear projection.\n",
        "\n",
        "We also add an extra token, known as the classification token, that will be the token which will be use to predict upon. After going through the N transformer layers, this is the token that goes throught a multi layer perceptron.\n",
        "\n",
        "\n",
        "<img src= \"https://1.bp.blogspot.com/-_mnVfmzvJWc/X8gMzhZ7SkI/AAAAAAAAG24/8gW2AHEoqUQrBwOqjhYB37A7OOjNyKuNgCLcBGAsYHQ/s1600/image1.gif\" width=\"512\">\n",
        "\n",
        "\n",
        "##### Question 9\n",
        "\n",
        "Implement the vision transformer\n",
        "\n",
        "Hint: Use Conv2D with the right kernel size and stride to do the linear projection of non-overlapping patches."
      ]
    },
    {
      "cell_type": "code",
      "execution_count": null,
      "metadata": {
        "id": "burU0LdxtKwr"
      },
      "outputs": [],
      "source": [
        "class ViT(nn.Module):\n",
        "    def __init__(self, patch_size, hidden_dim, n_heads, n_layers, n_classes, dropout_rate=0.1, positional_encoding=\"sinusoidal\", max_len=1000):\n",
        "        super().__init__()\n",
        "        self.patch_size = patch_size\n",
        "        self.hidden_dim = hidden_dim\n",
        "        self.n_heads = n_heads\n",
        "        self.n_layers = n_layers\n",
        "        self.n_classes = n_classes\n",
        "        self.dropout_rate = dropout_rate\n",
        "        self.max_len = max_len\n",
        "\n",
        "        if positional_encoding == \"sinusoidal\":\n",
        "          self.pos_encoder = SinusoidalPositionalEncoding(hidden_dim)\n",
        "        elif positional_encoding == \"learned\":\n",
        "          self.pos_encoder = LearnedPositionalEncoding(hidden_dim, max_len)\n",
        "    \n",
        "    def forward(self, x):\n",
        "        # x = [batch size, 3, image height, image width]\n",
        "        x_dim = x.size(1)\n",
        "        x_batch = x.size(0)\n",
        "        proj = nn.Conv2d(x_dim, x_dim, kernel_size=self.patch, stride=self.patch) \n",
        "        x = proj(x)  \n",
        "        x = x.flatten(2)  \n",
        "        x = x.transpose(1, 2) \n",
        "\n",
        "        #ajouter le token 0\n",
        "        token = nn.Parameter(torch.randn(x_batch, 1, x_dim))\n",
        "        encoder = TransformerEncoder(x_dim, self.hidden_dim, self.n_heads, self.dropout_rate, self.pos_encoder)\n",
        "        mlp = FFN(self.hidden_dim)\n",
        "\n",
        "        x = torch.cat((token, x), dim=1)\n",
        "        x = encoder(x)\n",
        "        extra = x[:, 0]\n",
        "        extra = mlp(extra)\n",
        "        return extra"
      ]
    },
    {
      "cell_type": "code",
      "source": [
        "ViT(3, 6, 2, 5, 10)"
      ],
      "metadata": {
        "colab": {
          "base_uri": "https://localhost:8080/"
        },
        "id": "vVTKeR8H5YwL",
        "outputId": "5460a4cb-da30-4618-f337-f0798ab54a00"
      },
      "execution_count": null,
      "outputs": [
        {
          "output_type": "execute_result",
          "data": {
            "text/plain": [
              "ViT(\n",
              "  (pos_encoder): SinusoidalPositionalEncoding()\n",
              ")"
            ]
          },
          "metadata": {},
          "execution_count": 24
        }
      ]
    },
    {
      "cell_type": "markdown",
      "metadata": {
        "id": "uF3LUM6ltKwr"
      },
      "source": [
        "### Compact Convolutional Transformer\n",
        "\n",
        "*   List item\n",
        "\n",
        "*   List item\n",
        "*   List item\n",
        "\n",
        "\n",
        "*   List item\n",
        "\n",
        "\n",
        "The previous network is a network that need a lot of compute and data to be trained. As we mentionned before, the transformer removes the inductive bias of convnets which requires more data to be tuned.\n",
        "For this TP, we will try to train an hybrid architecture that preserves the inductive biases of convolution but manages to use the transformer to add global learning.\n",
        "\n",
        "The first change is the tokenizer. We replace it with a ConvNet. Each convnet layer has a convolution, ReLU and maxpooling.\n",
        "The second change is to actually remove the classfication token and classify on top of a pooling of all tokens. The pooling is done with an attention like mechanism:\n",
        "- For each sample, we predict a scalar, that we compute the softmax over all the sample tokens.\n",
        "- We then do an weighted average pool by this softmax values over the tokens. The weight is given by the previous step\n",
        "\n",
        "More details see: https://arxiv.org/abs/2104.05704 \n",
        "\n",
        "<img src= https://miro.medium.com/v2/resize:fit:720/format:webp/1*8diH01Fl7MhHRemLy9hUHw.png width=512>"
      ]
    },
    {
      "cell_type": "markdown",
      "metadata": {
        "id": "A3DqSFtetKwr"
      },
      "source": [
        "##### Question 10 \n",
        "Implement the Convolutional based tokenizer and the SeqPool operationm"
      ]
    },
    {
      "cell_type": "code",
      "execution_count": null,
      "metadata": {
        "id": "K0mSG8AwtKwr"
      },
      "outputs": [],
      "source": [
        "class ConvPatchEmbedding(nn.Module):\n",
        "    def __init__(self, n_layers, kernel_size, hidden_dim):\n",
        "        super().__init__()\n",
        "        self.relu = nn.ReLU()\n",
        "        self.pool = nn.MaxPool2d(kernel_size = kernel_size, stride = kernel_size)\n",
        "        #self.conv = nn.Conv2d(in_channels=3 if i == 0 else hidden_dim, hidden_dim, kernel_size, kernel_size//2)\n",
        "        self.layer = nn.ModuleList([nn.Sequential(nn.Conv2d(\n",
        "                    in_channels=3 if i == 0 else hidden_dim, \n",
        "                    out_channels=hidden_dim, kernel_size=kernel_size, padding=(kernel_size // 2),)\n",
        "                    , self.relu, self.pool) for i in range(n_layers)])\n",
        "\n",
        "    def forward(self, x):\n",
        "        #taille [batch_size, dim, height, width]\n",
        "        for encoder in self.layer:\n",
        "          x = encoder(x)\n",
        "        return x # taille [batch_size, hidden_dim, height // (kernel_size^n_layers), width // (kernel_size^n_layers))]\n",
        "\n",
        "class SeqPool(nn.Module):\n",
        "    def __init__(self, hidden_dim):\n",
        "        super().__init__()\n",
        "        self.lin = nn.Linear(hidden_dim, 1)\n",
        "\n",
        "    def forward(self, x):\n",
        "        scalar = self.lin(x)\n",
        "        scalar = scalar.squeeze(-1)\n",
        "        scalar = F.softmax(scalar, dim=1) # [batch, n_sample]\n",
        "\n",
        "        x = torch.bmm(scalar.unsqueeze(1), x) #[batch, 1, sample]*[batch, sample, dim]\n",
        "        x = x.squeeze(1) #[batch, dim] \n",
        "\n",
        "        return x"
      ]
    },
    {
      "cell_type": "markdown",
      "metadata": {
        "id": "luGbtYW_tKws"
      },
      "source": [
        "##### Question 11\n",
        "\n",
        "Implement the Compact Convolutional Transformer."
      ]
    },
    {
      "cell_type": "code",
      "execution_count": 85,
      "metadata": {
        "id": "cLJvx5NstKws"
      },
      "outputs": [],
      "source": [
        "class CCT(nn.Module):\n",
        "    def __init__(self, n_conv_layers, kernel_size,  n_transformer_layers, hidden_dim, n_heads, n_classes, dropout_rate=0.1):\n",
        "        super().__init__()\n",
        "        self.patch = ConvPatchEmbedding(n_conv_layers, kernel_size, hidden_dim)\n",
        "        self.encoder = TransformerEncoder(hidden_dim, hidden_dim, n_heads, n_transformer_layers, dropout_rate)\n",
        "        self.classifier = nn.Linear(hidden_dim, n_classes)\n",
        "        self.pool = SeqPool(hidden_dim)\n",
        "        self.mlp = FFN(hidden_dim, dropout_rate)\n",
        "        self.hidden_dim = hidden_dim\n",
        "\n",
        "\n",
        "\n",
        "    def forward(self, x):\n",
        "        # x [batch, dim, height, width]\n",
        "        batch = x.size(0)\n",
        "        dim = x.size(1)\n",
        "        #print(x.size())\n",
        "\n",
        "        x = self.patch(x)\n",
        "        #print(x.size())\n",
        "        # # taille [batch_size, hidden_dim, height // (kernel_size^n_layers), width // (kernel_size^n_layers))]\n",
        "\n",
        "        x = x.permute(0, 2, 3, 1).contiguous() # taille [batch, h', w', hidden_dim]\n",
        "        #print(x.size())\n",
        "\n",
        "        x = x.view(batch, -1, self.hidden_dim) # taille [batch, h'*w', hidden_dim]\n",
        "        #print(x.size())\n",
        "\n",
        "        x = self.encoder(x)\n",
        "        # taille [batch, h'*w', hidden_dim]\n",
        "        #print(x.size())\n",
        "\n",
        "        x = self.pool(x)\n",
        "        # taille [batch, hidden_dim]\n",
        "        #print(x.size())\n",
        "        x = self.mlp(x)\n",
        "        # taille [batch, hidden_dim]\n",
        "        #print(x.size())\n",
        "        x = self.classifier(x)\n",
        "        # taille [batch, n_classes]\n",
        "        #print(x.size())\n",
        "        return x"
      ]
    },
    {
      "cell_type": "code",
      "source": [
        "model = CCT(3, 3, 10, 6, 2, 10, 0.1)\n",
        "x = torch.randn(10, 3, 32, 32)\n",
        "x = model(x)\n",
        "assert x.shape == torch.Size([10, 10])"
      ],
      "metadata": {
        "colab": {
          "base_uri": "https://localhost:8080/"
        },
        "id": "iFS929ha_L2u",
        "outputId": "b12d2c39-2b4e-49e5-aa02-a1a27f7a21f3"
      },
      "execution_count": null,
      "outputs": [
        {
          "output_type": "stream",
          "name": "stdout",
          "text": [
            "torch.Size([10, 3, 32, 32])\n",
            "torch.Size([10, 6, 1, 1])\n",
            "torch.Size([10, 1, 1, 6])\n",
            "torch.Size([10, 1, 6])\n",
            "torch.Size([10, 1, 6])\n",
            "torch.Size([10, 6])\n",
            "torch.Size([10, 6])\n",
            "torch.Size([10, 10])\n"
          ]
        }
      ]
    },
    {
      "cell_type": "markdown",
      "metadata": {
        "id": "JTREsj_3tKws"
      },
      "source": [
        "##### Question 12\n",
        "Train the CCT on CIFAR-10 for 300 epochs and log both train and test loss and accuracy. You should obtain at least 80+% test accuracy. (Possible to get 90%+). \n",
        "We provide a data augmentation strategy called auto augment to avoid overfitting on the training data.\n",
        "Hparameters are to be choosen to your discretion.\n",
        "\n",
        "Tips for Hparams:\n",
        "- Don't use too big of a transformer hidden dim (<256)\n",
        "- For the convnet, aim to have between 32 and 128 output tokens.\n",
        "- Use AdamW with some weight decay to avoid overfitting\n",
        "- Use between 2 and 6 transformer layers.\n",
        "- Use between 2 and 4 transformer heads\n",
        "\n",
        "Training takes around 30min (depending of hparams), so keep working on the next questions while it trains. You can copy paste the notebook and run it in a separate collab instance to be able to execute the code of the next questions."
      ]
    },
    {
      "cell_type": "code",
      "execution_count": null,
      "metadata": {
        "id": "kwSfkEZItKws",
        "colab": {
          "base_uri": "https://localhost:8080/"
        },
        "outputId": "8d42d43d-3fcb-4127-9612-90e26b7bf031"
      },
      "outputs": [
        {
          "output_type": "stream",
          "name": "stdout",
          "text": [
            "Downloading https://www.cs.toronto.edu/~kriz/cifar-10-python.tar.gz to ./data/cifar-10-python.tar.gz\n"
          ]
        },
        {
          "output_type": "stream",
          "name": "stderr",
          "text": [
            "100%|██████████| 170498071/170498071 [00:06<00:00, 27681749.60it/s]\n"
          ]
        },
        {
          "output_type": "stream",
          "name": "stdout",
          "text": [
            "Extracting ./data/cifar-10-python.tar.gz to ./data\n"
          ]
        },
        {
          "output_type": "stream",
          "name": "stderr",
          "text": [
            "/usr/local/lib/python3.9/dist-packages/torch/utils/data/dataloader.py:561: UserWarning: This DataLoader will create 4 worker processes in total. Our suggested max number of worker in current system is 2, which is smaller than what this DataLoader is going to create. Please be aware that excessive worker creation might get DataLoader running slow or even freeze, lower the worker number to avoid potential slowness/freeze if necessary.\n",
            "  warnings.warn(_create_warning_msg(\n"
          ]
        },
        {
          "output_type": "stream",
          "name": "stdout",
          "text": [
            "Files already downloaded and verified\n"
          ]
        }
      ],
      "source": [
        "batch_size = 128\n",
        "train_set = CIFAR10(root='./data', train=True, download=True, transform=transforms.Compose([\n",
        "    transforms.autoaugment.AutoAugment(policy=transforms.AutoAugmentPolicy.CIFAR10),\n",
        "    transforms.ToTensor(),\n",
        "    transforms.Normalize((0.4914, 0.4822, 0.4465), (0.2470, 0.2435, 0.2616))\n",
        "]))\n",
        "\n",
        "train_loader = DataLoader(train_set, batch_size=batch_size, shuffle=True, num_workers=4)\n",
        "\n",
        "test_set = CIFAR10(root='./data', train=False, download=True, transform=transforms.Compose([\n",
        "    transforms.ToTensor(),\n",
        "    transforms.Normalize((0.4914, 0.4822, 0.4465), (0.2470, 0.2435, 0.2616))\n",
        "]))\n",
        "\n",
        "test_loader = DataLoader(test_set, batch_size=batch_size, shuffle=False, num_workers=4)\n"
      ]
    },
    {
      "cell_type": "code",
      "source": [
        "train_set[0][0].size()"
      ],
      "metadata": {
        "colab": {
          "base_uri": "https://localhost:8080/"
        },
        "id": "loyfrnvq78fW",
        "outputId": "b598c2f6-7524-4073-f30e-fb10376089be"
      },
      "execution_count": null,
      "outputs": [
        {
          "output_type": "execute_result",
          "data": {
            "text/plain": [
              "torch.Size([3, 32, 32])"
            ]
          },
          "metadata": {},
          "execution_count": 50
        }
      ]
    },
    {
      "cell_type": "code",
      "source": [
        "def train(train_loader, test_loader,  epochs=300):\n",
        "    model = CCT(n_conv_layers = 3, kernel_size = 3, n_transformer_layers = 3, hidden_dim =100 , n_heads = 2, n_classes = 10)\n",
        "    optimizer = torch.optim.AdamW(model.parameters(), lr=5e-3, weight_decay = 0.01)\n",
        "    criterion = nn.CrossEntropyLoss()\n",
        "    model.train()\n",
        "    train_losses = []\n",
        "    train_accs = []\n",
        "    for epoch in tqdm(range(epochs)):\n",
        "        train_loss = 0\n",
        "        train_acc = 0\n",
        "        for x, y in tqdm(train_loader):\n",
        "            #x, y = x.to(device), y.to(device)\n",
        "            optimizer.zero_grad()\n",
        "            outputs = model(x)\n",
        "            #print('heyheyhey',outputs.size())\n",
        "            #print('yo', y.size())\n",
        "            loss = criterion(outputs, y)\n",
        "            loss.backward()\n",
        "            optimizer.step()\n",
        "            train_loss += loss.item()\n",
        "            #out_pred = outputs>0.5\n",
        "            out_pred = torch.argmax(outputs) \n",
        "            #print(out_pred.size())\n",
        "            train_acc += (out_pred == y).sum()\n",
        "            \n",
        "            \n",
        "\n",
        "\n",
        "        train_loss /= len(train_loader)\n",
        "        train_acc = train_acc/ len(train_loader.dataset)\n",
        "\n",
        "        train_losses.append(train_loss)\n",
        "        train_accs.append(train_acc)\n",
        "\n",
        "    # Test\n",
        "    model.eval()\n",
        "    test_acc = 0\n",
        "    with torch.no_grad():\n",
        "        for x, y in test_loader:\n",
        "            #x, y = x.to(device), y.to(device)\n",
        "            outputs = model(x)\n",
        "            #out_pred = outputs>0.5\n",
        "            out_pred = torch.argmax(outputs) \n",
        "            test_acc += (out_pred == y).sum()\n",
        "\n",
        "    test_acc = test_acc / len(test_loader.dataset)\n",
        "\n",
        "    return train_losses, train_accs, test_acc\n",
        "\n",
        "train_losses, train_accs, test_acc = train(train_loader, test_loader, epochs=300)"
      ],
      "metadata": {
        "colab": {
          "base_uri": "https://localhost:8080/"
        },
        "id": "ce_57K6jT-1d",
        "outputId": "bba6b370-1401-4cc6-8d4e-719c77dd77cf"
      },
      "execution_count": 96,
      "outputs": [
        {
          "output_type": "stream",
          "name": "stderr",
          "text": [
            "  0%|          | 0/1 [00:00<?, ?it/s]\n",
            "  0%|          | 0/391 [00:00<?, ?it/s]\u001b[A\n",
            "  0%|          | 1/391 [00:01<06:57,  1.07s/it]\u001b[A\n",
            "  1%|          | 2/391 [00:01<04:26,  1.46it/s]\u001b[A\n",
            "  1%|          | 3/391 [00:01<03:37,  1.78it/s]\u001b[A\n",
            "  1%|          | 4/391 [00:02<03:16,  1.97it/s]\u001b[A\n",
            "  1%|▏         | 5/391 [00:02<03:05,  2.09it/s]\u001b[A\n",
            "  2%|▏         | 6/391 [00:03<02:58,  2.16it/s]\u001b[A\n",
            "  2%|▏         | 7/391 [00:03<02:53,  2.22it/s]\u001b[A\n",
            "  2%|▏         | 8/391 [00:04<02:53,  2.21it/s]\u001b[A\n",
            "  2%|▏         | 9/391 [00:04<03:21,  1.89it/s]\u001b[A\n",
            "  3%|▎         | 10/391 [00:05<03:35,  1.77it/s]\u001b[A\n",
            "  3%|▎         | 11/391 [00:06<03:46,  1.68it/s]\u001b[A\n",
            "  3%|▎         | 12/391 [00:07<04:28,  1.41it/s]\u001b[A\n",
            "  3%|▎         | 13/391 [00:07<03:55,  1.60it/s]\u001b[A\n",
            "  4%|▎         | 14/391 [00:07<03:34,  1.76it/s]\u001b[A\n",
            "  4%|▍         | 15/391 [00:08<03:19,  1.88it/s]\u001b[A\n",
            "  4%|▍         | 16/391 [00:08<03:07,  2.00it/s]\u001b[A\n",
            "  4%|▍         | 17/391 [00:09<02:59,  2.08it/s]\u001b[A\n",
            "  5%|▍         | 18/391 [00:09<02:53,  2.15it/s]\u001b[A\n",
            "  5%|▍         | 19/391 [00:10<02:48,  2.21it/s]\u001b[A\n",
            "  5%|▌         | 20/391 [00:10<02:45,  2.24it/s]\u001b[A\n",
            "  5%|▌         | 21/391 [00:10<02:43,  2.26it/s]\u001b[A\n",
            "  6%|▌         | 22/391 [00:11<02:44,  2.25it/s]\u001b[A\n",
            "  6%|▌         | 23/391 [00:11<02:42,  2.26it/s]\u001b[A\n",
            "  6%|▌         | 24/391 [00:12<02:41,  2.28it/s]\u001b[A\n",
            "  6%|▋         | 25/391 [00:12<02:39,  2.29it/s]\u001b[A\n",
            "  7%|▋         | 26/391 [00:13<02:40,  2.28it/s]\u001b[A\n",
            "  7%|▋         | 27/391 [00:13<02:39,  2.28it/s]\u001b[A\n",
            "  7%|▋         | 28/391 [00:14<02:39,  2.28it/s]\u001b[A\n",
            "  7%|▋         | 29/391 [00:14<02:38,  2.28it/s]\u001b[A\n",
            "  8%|▊         | 30/391 [00:14<02:37,  2.29it/s]\u001b[A\n",
            "  8%|▊         | 31/391 [00:15<02:37,  2.28it/s]\u001b[A\n",
            "  8%|▊         | 32/391 [00:15<02:36,  2.29it/s]\u001b[A\n",
            "  8%|▊         | 33/391 [00:16<02:35,  2.30it/s]\u001b[A\n",
            "  9%|▊         | 34/391 [00:16<02:37,  2.26it/s]\u001b[A\n",
            "  9%|▉         | 35/391 [00:17<02:58,  1.99it/s]\u001b[A\n",
            "  9%|▉         | 36/391 [00:17<03:14,  1.83it/s]\u001b[A\n",
            "  9%|▉         | 37/391 [00:18<03:25,  1.72it/s]\u001b[A\n",
            " 10%|▉         | 38/391 [00:19<03:24,  1.72it/s]\u001b[A\n",
            " 10%|▉         | 39/391 [00:19<03:09,  1.85it/s]\u001b[A\n",
            " 10%|█         | 40/391 [00:20<02:58,  1.96it/s]\u001b[A\n",
            " 10%|█         | 41/391 [00:20<02:51,  2.04it/s]\u001b[A\n",
            " 11%|█         | 42/391 [00:20<02:46,  2.10it/s]\u001b[A\n",
            " 11%|█         | 43/391 [00:21<02:42,  2.15it/s]\u001b[A\n",
            " 11%|█▏        | 44/391 [00:21<02:40,  2.17it/s]\u001b[A\n",
            " 12%|█▏        | 45/391 [00:22<02:36,  2.21it/s]\u001b[A\n",
            " 12%|█▏        | 46/391 [00:22<02:34,  2.23it/s]\u001b[A\n",
            " 12%|█▏        | 47/391 [00:23<02:33,  2.25it/s]\u001b[A\n",
            " 12%|█▏        | 48/391 [00:23<02:31,  2.26it/s]\u001b[A\n",
            " 13%|█▎        | 49/391 [00:24<02:29,  2.28it/s]\u001b[A\n",
            " 13%|█▎        | 50/391 [00:24<02:28,  2.30it/s]\u001b[A\n",
            " 13%|█▎        | 51/391 [00:24<02:28,  2.29it/s]\u001b[A\n",
            " 13%|█▎        | 52/391 [00:25<02:28,  2.29it/s]\u001b[A\n",
            " 14%|█▎        | 53/391 [00:25<02:28,  2.27it/s]\u001b[A\n",
            " 14%|█▍        | 54/391 [00:26<02:28,  2.27it/s]\u001b[A\n",
            " 14%|█▍        | 55/391 [00:26<02:27,  2.27it/s]\u001b[A\n",
            " 14%|█▍        | 56/391 [00:27<02:27,  2.28it/s]\u001b[A\n",
            " 15%|█▍        | 57/391 [00:27<02:26,  2.28it/s]\u001b[A\n",
            " 15%|█▍        | 58/391 [00:27<02:26,  2.27it/s]\u001b[A\n",
            " 15%|█▌        | 59/391 [00:28<02:25,  2.28it/s]\u001b[A\n",
            " 15%|█▌        | 60/391 [00:28<02:26,  2.25it/s]\u001b[A\n",
            " 16%|█▌        | 61/391 [00:29<02:37,  2.09it/s]\u001b[A\n",
            " 16%|█▌        | 62/391 [00:30<02:57,  1.85it/s]\u001b[A\n",
            " 16%|█▌        | 63/391 [00:30<03:05,  1.77it/s]\u001b[A\n",
            " 16%|█▋        | 64/391 [00:31<03:11,  1.71it/s]\u001b[A\n",
            " 17%|█▋        | 65/391 [00:31<02:59,  1.82it/s]\u001b[A\n",
            " 17%|█▋        | 66/391 [00:32<02:47,  1.94it/s]\u001b[A\n",
            " 17%|█▋        | 67/391 [00:32<02:45,  1.96it/s]\u001b[A\n",
            " 17%|█▋        | 68/391 [00:33<02:38,  2.04it/s]\u001b[A\n",
            " 18%|█▊        | 69/391 [00:33<02:34,  2.08it/s]\u001b[A\n",
            " 18%|█▊        | 70/391 [00:34<02:29,  2.15it/s]\u001b[A\n",
            " 18%|█▊        | 71/391 [00:34<02:26,  2.19it/s]\u001b[A\n",
            " 18%|█▊        | 72/391 [00:34<02:24,  2.21it/s]\u001b[A\n",
            " 19%|█▊        | 73/391 [00:35<02:22,  2.23it/s]\u001b[A\n",
            " 19%|█▉        | 74/391 [00:35<02:20,  2.25it/s]\u001b[A\n",
            " 19%|█▉        | 75/391 [00:36<02:18,  2.28it/s]\u001b[A\n",
            " 19%|█▉        | 76/391 [00:36<02:18,  2.27it/s]\u001b[A\n",
            " 20%|█▉        | 77/391 [00:37<02:19,  2.25it/s]\u001b[A\n",
            " 20%|█▉        | 78/391 [00:37<02:18,  2.26it/s]\u001b[A\n",
            " 20%|██        | 79/391 [00:38<02:17,  2.27it/s]\u001b[A\n",
            " 20%|██        | 80/391 [00:38<02:15,  2.29it/s]\u001b[A\n",
            " 21%|██        | 81/391 [00:38<02:14,  2.30it/s]\u001b[A\n",
            " 21%|██        | 82/391 [00:39<02:13,  2.31it/s]\u001b[A\n",
            " 21%|██        | 83/391 [00:39<02:13,  2.31it/s]\u001b[A\n",
            " 21%|██▏       | 84/391 [00:40<02:13,  2.29it/s]\u001b[A\n",
            " 22%|██▏       | 85/391 [00:40<02:12,  2.30it/s]\u001b[A\n",
            " 22%|██▏       | 86/391 [00:41<02:12,  2.31it/s]\u001b[A\n",
            " 22%|██▏       | 87/391 [00:41<02:13,  2.28it/s]\u001b[A\n",
            " 23%|██▎       | 88/391 [00:42<02:27,  2.05it/s]\u001b[A\n",
            " 23%|██▎       | 89/391 [00:42<02:43,  1.84it/s]\u001b[A\n",
            " 23%|██▎       | 90/391 [00:43<02:49,  1.77it/s]\u001b[A\n",
            " 23%|██▎       | 91/391 [00:44<02:58,  1.68it/s]\u001b[A\n",
            " 24%|██▎       | 92/391 [00:44<02:43,  1.83it/s]\u001b[A\n",
            " 24%|██▍       | 93/391 [00:44<02:32,  1.95it/s]\u001b[A\n",
            " 24%|██▍       | 94/391 [00:45<02:24,  2.05it/s]\u001b[A\n",
            " 24%|██▍       | 95/391 [00:45<02:20,  2.11it/s]\u001b[A\n",
            " 25%|██▍       | 96/391 [00:46<02:17,  2.15it/s]\u001b[A\n",
            " 25%|██▍       | 97/391 [00:46<02:14,  2.18it/s]\u001b[A\n",
            " 25%|██▌       | 98/391 [00:47<02:12,  2.22it/s]\u001b[A\n",
            " 25%|██▌       | 99/391 [00:47<02:10,  2.24it/s]\u001b[A\n",
            " 26%|██▌       | 100/391 [00:48<02:09,  2.25it/s]\u001b[A\n",
            " 26%|██▌       | 101/391 [00:48<02:07,  2.28it/s]\u001b[A\n",
            " 26%|██▌       | 102/391 [00:48<02:06,  2.29it/s]\u001b[A\n",
            " 26%|██▋       | 103/391 [00:49<02:06,  2.28it/s]\u001b[A\n",
            " 27%|██▋       | 104/391 [00:49<02:05,  2.29it/s]\u001b[A\n",
            " 27%|██▋       | 105/391 [00:50<02:04,  2.30it/s]\u001b[A\n",
            " 27%|██▋       | 106/391 [00:50<02:03,  2.30it/s]\u001b[A\n",
            " 27%|██▋       | 107/391 [00:51<02:02,  2.31it/s]\u001b[A\n",
            " 28%|██▊       | 108/391 [00:51<02:01,  2.33it/s]\u001b[A\n",
            " 28%|██▊       | 109/391 [00:51<02:01,  2.32it/s]\u001b[A\n",
            " 28%|██▊       | 110/391 [00:52<02:01,  2.32it/s]\u001b[A\n",
            " 28%|██▊       | 111/391 [00:52<02:01,  2.31it/s]\u001b[A\n",
            " 29%|██▊       | 112/391 [00:53<02:00,  2.31it/s]\u001b[A\n",
            " 29%|██▉       | 113/391 [00:53<02:00,  2.31it/s]\u001b[A\n",
            " 29%|██▉       | 114/391 [00:54<02:00,  2.29it/s]\u001b[A\n",
            " 29%|██▉       | 115/391 [00:54<02:14,  2.05it/s]\u001b[A\n",
            " 30%|██▉       | 116/391 [00:55<02:28,  1.85it/s]\u001b[A\n",
            " 30%|██▉       | 117/391 [00:55<02:36,  1.75it/s]\u001b[A\n",
            " 30%|███       | 118/391 [00:56<02:39,  1.72it/s]\u001b[A\n",
            " 30%|███       | 119/391 [00:57<02:29,  1.82it/s]\u001b[A\n",
            " 31%|███       | 120/391 [00:57<02:20,  1.93it/s]\u001b[A\n",
            " 31%|███       | 121/391 [00:57<02:12,  2.04it/s]\u001b[A\n",
            " 31%|███       | 122/391 [00:58<02:07,  2.11it/s]\u001b[A\n",
            " 31%|███▏      | 123/391 [00:58<02:03,  2.17it/s]\u001b[A\n",
            " 32%|███▏      | 124/391 [00:59<02:00,  2.21it/s]\u001b[A\n",
            " 32%|███▏      | 125/391 [00:59<01:59,  2.23it/s]\u001b[A\n",
            " 32%|███▏      | 126/391 [01:00<01:57,  2.26it/s]\u001b[A\n",
            " 32%|███▏      | 127/391 [01:00<02:07,  2.06it/s]\u001b[A\n",
            " 33%|███▎      | 128/391 [01:01<02:25,  1.80it/s]\u001b[A\n",
            " 33%|███▎      | 129/391 [01:01<02:19,  1.87it/s]\u001b[A\n",
            " 33%|███▎      | 130/391 [01:02<02:37,  1.65it/s]\u001b[A\n",
            " 34%|███▎      | 131/391 [01:03<02:36,  1.66it/s]\u001b[A\n",
            " 34%|███▍      | 132/391 [01:03<02:46,  1.56it/s]\u001b[A\n",
            " 34%|███▍      | 133/391 [01:05<03:15,  1.32it/s]\u001b[A\n",
            " 34%|███▍      | 134/391 [01:05<03:12,  1.34it/s]\u001b[A\n",
            " 35%|███▍      | 135/391 [01:06<03:02,  1.40it/s]\u001b[A\n",
            " 35%|███▍      | 136/391 [01:07<03:28,  1.23it/s]\u001b[A\n",
            " 35%|███▌      | 137/391 [01:08<04:01,  1.05it/s]\u001b[A\n",
            " 35%|███▌      | 138/391 [01:09<03:59,  1.06it/s]\u001b[A\n",
            " 36%|███▌      | 139/391 [01:10<03:19,  1.26it/s]\u001b[A\n",
            " 36%|███▌      | 140/391 [01:10<02:55,  1.43it/s]\u001b[A\n",
            " 36%|███▌      | 141/391 [01:10<02:34,  1.62it/s]\u001b[A\n",
            " 36%|███▋      | 142/391 [01:11<02:19,  1.79it/s]\u001b[A\n",
            " 37%|███▋      | 143/391 [01:11<02:08,  1.92it/s]\u001b[A\n",
            " 37%|███▋      | 144/391 [01:12<02:02,  2.02it/s]\u001b[A\n",
            " 37%|███▋      | 145/391 [01:12<02:08,  1.91it/s]\u001b[A\n",
            " 37%|███▋      | 146/391 [01:13<02:49,  1.44it/s]\u001b[A\n",
            " 38%|███▊      | 147/391 [01:14<02:42,  1.50it/s]\u001b[A\n",
            " 38%|███▊      | 148/391 [01:15<02:40,  1.51it/s]\u001b[A\n",
            " 38%|███▊      | 149/391 [01:15<02:30,  1.60it/s]\u001b[A\n",
            " 38%|███▊      | 150/391 [01:16<02:35,  1.55it/s]\u001b[A\n",
            " 39%|███▊      | 151/391 [01:16<02:26,  1.64it/s]\u001b[A\n",
            " 39%|███▉      | 152/391 [01:17<02:23,  1.67it/s]\u001b[A\n",
            " 39%|███▉      | 153/391 [01:18<02:24,  1.65it/s]\u001b[A\n",
            " 39%|███▉      | 154/391 [01:19<02:52,  1.38it/s]\u001b[A\n",
            " 40%|███▉      | 155/391 [01:19<02:53,  1.36it/s]\u001b[A\n",
            " 40%|███▉      | 156/391 [01:21<04:19,  1.10s/it]\u001b[A\n",
            " 40%|████      | 157/391 [01:22<03:53,  1.00it/s]\u001b[A\n",
            " 40%|████      | 158/391 [01:23<03:14,  1.20it/s]\u001b[A\n",
            " 41%|████      | 159/391 [01:23<02:44,  1.41it/s]\u001b[A\n",
            " 41%|████      | 160/391 [01:23<02:24,  1.60it/s]\u001b[A\n",
            " 41%|████      | 161/391 [01:24<02:09,  1.78it/s]\u001b[A\n",
            " 41%|████▏     | 162/391 [01:24<02:00,  1.90it/s]\u001b[A\n",
            " 42%|████▏     | 163/391 [01:25<01:54,  1.98it/s]\u001b[A\n",
            " 42%|████▏     | 164/391 [01:25<01:49,  2.08it/s]\u001b[A\n",
            " 42%|████▏     | 165/391 [01:26<01:46,  2.13it/s]\u001b[A\n",
            " 42%|████▏     | 166/391 [01:26<01:48,  2.08it/s]\u001b[A\n",
            " 43%|████▎     | 167/391 [01:27<02:12,  1.70it/s]\u001b[A\n",
            " 43%|████▎     | 168/391 [01:28<02:26,  1.52it/s]\u001b[A\n",
            " 43%|████▎     | 169/391 [01:28<02:10,  1.70it/s]\u001b[A\n",
            " 43%|████▎     | 170/391 [01:29<01:59,  1.85it/s]\u001b[A\n",
            " 44%|████▎     | 171/391 [01:29<01:50,  1.98it/s]\u001b[A\n",
            " 44%|████▍     | 172/391 [01:29<01:45,  2.07it/s]\u001b[A\n",
            " 44%|████▍     | 173/391 [01:30<01:41,  2.15it/s]\u001b[A\n",
            " 45%|████▍     | 174/391 [01:30<01:38,  2.21it/s]\u001b[A\n",
            " 45%|████▍     | 175/391 [01:31<01:36,  2.24it/s]\u001b[A\n",
            " 45%|████▌     | 176/391 [01:31<01:34,  2.29it/s]\u001b[A\n",
            " 45%|████▌     | 177/391 [01:32<01:33,  2.30it/s]\u001b[A\n",
            " 46%|████▌     | 178/391 [01:32<01:39,  2.13it/s]\u001b[A\n",
            " 46%|████▌     | 179/391 [01:33<01:53,  1.87it/s]\u001b[A\n",
            " 46%|████▌     | 180/391 [01:34<02:00,  1.75it/s]\u001b[A\n",
            " 46%|████▋     | 181/391 [01:34<02:04,  1.68it/s]\u001b[A\n",
            " 47%|████▋     | 182/391 [01:35<01:55,  1.80it/s]\u001b[A\n",
            " 47%|████▋     | 183/391 [01:35<01:46,  1.95it/s]\u001b[A\n",
            " 47%|████▋     | 184/391 [01:35<01:40,  2.05it/s]\u001b[A\n",
            " 47%|████▋     | 185/391 [01:36<01:36,  2.13it/s]\u001b[A\n",
            " 48%|████▊     | 186/391 [01:36<01:34,  2.18it/s]\u001b[A\n",
            " 48%|████▊     | 187/391 [01:37<01:31,  2.22it/s]\u001b[A\n",
            " 48%|████▊     | 188/391 [01:37<01:30,  2.24it/s]\u001b[A\n",
            " 48%|████▊     | 189/391 [01:38<01:29,  2.25it/s]\u001b[A\n",
            " 49%|████▊     | 190/391 [01:38<01:27,  2.29it/s]\u001b[A\n",
            " 49%|████▉     | 191/391 [01:38<01:27,  2.30it/s]\u001b[A\n",
            " 49%|████▉     | 192/391 [01:39<01:26,  2.30it/s]\u001b[A\n",
            " 49%|████▉     | 193/391 [01:39<01:25,  2.31it/s]\u001b[A\n",
            " 50%|████▉     | 194/391 [01:40<01:25,  2.31it/s]\u001b[A\n",
            " 50%|████▉     | 195/391 [01:40<01:24,  2.31it/s]\u001b[A\n",
            " 50%|█████     | 196/391 [01:41<01:24,  2.31it/s]\u001b[A\n",
            " 50%|█████     | 197/391 [01:41<01:23,  2.33it/s]\u001b[A\n",
            " 51%|█████     | 198/391 [01:41<01:23,  2.32it/s]\u001b[A\n",
            " 51%|█████     | 199/391 [01:42<01:22,  2.33it/s]\u001b[A\n",
            " 51%|█████     | 200/391 [01:42<01:21,  2.34it/s]\u001b[A\n",
            " 51%|█████▏    | 201/391 [01:43<01:20,  2.35it/s]\u001b[A\n",
            " 52%|█████▏    | 202/391 [01:43<01:19,  2.37it/s]\u001b[A\n",
            " 52%|█████▏    | 203/391 [01:44<01:19,  2.38it/s]\u001b[A\n",
            " 52%|█████▏    | 204/391 [01:44<01:18,  2.37it/s]\u001b[A\n",
            " 52%|█████▏    | 205/391 [01:45<01:22,  2.26it/s]\u001b[A\n",
            " 53%|█████▎    | 206/391 [01:45<01:33,  1.97it/s]\u001b[A\n",
            " 53%|█████▎    | 207/391 [01:46<01:44,  1.76it/s]\u001b[A\n",
            " 53%|█████▎    | 208/391 [01:47<01:47,  1.70it/s]\u001b[A\n",
            " 53%|█████▎    | 209/391 [01:47<01:44,  1.74it/s]\u001b[A\n",
            " 54%|█████▎    | 210/391 [01:47<01:36,  1.88it/s]\u001b[A\n",
            " 54%|█████▍    | 211/391 [01:48<01:29,  2.00it/s]\u001b[A\n",
            " 54%|█████▍    | 212/391 [01:48<01:25,  2.10it/s]\u001b[A\n",
            " 54%|█████▍    | 213/391 [01:49<01:21,  2.18it/s]\u001b[A\n",
            " 55%|█████▍    | 214/391 [01:49<01:20,  2.21it/s]\u001b[A\n",
            " 55%|█████▍    | 215/391 [01:50<01:18,  2.25it/s]\u001b[A\n",
            " 55%|█████▌    | 216/391 [01:50<01:16,  2.28it/s]\u001b[A\n",
            " 55%|█████▌    | 217/391 [01:51<01:37,  1.79it/s]\u001b[A\n",
            " 56%|█████▌    | 218/391 [01:52<02:00,  1.44it/s]\u001b[A\n",
            " 56%|█████▌    | 219/391 [01:53<02:13,  1.29it/s]\u001b[A\n",
            " 56%|█████▋    | 220/391 [01:54<02:15,  1.26it/s]\u001b[A\n",
            " 57%|█████▋    | 221/391 [01:55<02:23,  1.18it/s]\u001b[A\n",
            " 57%|█████▋    | 222/391 [01:56<02:27,  1.14it/s]\u001b[A\n",
            " 57%|█████▋    | 223/391 [01:57<02:33,  1.09it/s]\u001b[A\n",
            " 57%|█████▋    | 224/391 [01:58<02:46,  1.00it/s]\u001b[A\n",
            " 58%|█████▊    | 225/391 [01:59<03:11,  1.16s/it]\u001b[A\n",
            " 58%|█████▊    | 226/391 [02:01<03:14,  1.18s/it]\u001b[A\n",
            " 58%|█████▊    | 227/391 [02:01<03:01,  1.11s/it]\u001b[A\n",
            " 58%|█████▊    | 228/391 [02:02<02:29,  1.09it/s]\u001b[A\n",
            " 59%|█████▊    | 229/391 [02:02<02:05,  1.29it/s]\u001b[A\n",
            " 59%|█████▉    | 230/391 [02:03<01:48,  1.49it/s]\u001b[A\n",
            " 59%|█████▉    | 231/391 [02:03<01:35,  1.67it/s]\u001b[A\n",
            " 59%|█████▉    | 232/391 [02:04<01:27,  1.81it/s]\u001b[A\n",
            " 60%|█████▉    | 233/391 [02:04<01:21,  1.95it/s]\u001b[A\n",
            " 60%|█████▉    | 234/391 [02:05<01:16,  2.05it/s]\u001b[A\n",
            " 60%|██████    | 235/391 [02:05<01:13,  2.11it/s]\u001b[A\n",
            " 60%|██████    | 236/391 [02:05<01:11,  2.17it/s]\u001b[A\n",
            " 61%|██████    | 237/391 [02:06<01:09,  2.22it/s]\u001b[A\n",
            " 61%|██████    | 238/391 [02:06<01:07,  2.25it/s]\u001b[A\n",
            " 61%|██████    | 239/391 [02:07<01:08,  2.22it/s]\u001b[A\n",
            " 61%|██████▏   | 240/391 [02:07<01:08,  2.22it/s]\u001b[A\n",
            " 62%|██████▏   | 241/391 [02:08<01:06,  2.25it/s]\u001b[A\n",
            " 62%|██████▏   | 242/391 [02:08<01:04,  2.30it/s]\u001b[A\n",
            " 62%|██████▏   | 243/391 [02:08<01:04,  2.30it/s]\u001b[A\n",
            " 62%|██████▏   | 244/391 [02:09<01:03,  2.32it/s]\u001b[A\n",
            " 63%|██████▎   | 245/391 [02:09<01:03,  2.31it/s]\u001b[A\n",
            " 63%|██████▎   | 246/391 [02:10<01:03,  2.29it/s]\u001b[A\n",
            " 63%|██████▎   | 247/391 [02:10<01:02,  2.29it/s]\u001b[A\n",
            " 63%|██████▎   | 248/391 [02:11<01:07,  2.12it/s]\u001b[A\n",
            " 64%|██████▎   | 249/391 [02:11<01:13,  1.92it/s]\u001b[A\n",
            " 64%|██████▍   | 250/391 [02:12<01:17,  1.81it/s]\u001b[A\n",
            " 64%|██████▍   | 251/391 [02:13<01:21,  1.73it/s]\u001b[A\n",
            " 64%|██████▍   | 252/391 [02:13<01:17,  1.79it/s]\u001b[A\n",
            " 65%|██████▍   | 253/391 [02:14<01:11,  1.93it/s]\u001b[A\n",
            " 65%|██████▍   | 254/391 [02:14<01:07,  2.03it/s]\u001b[A\n",
            " 65%|██████▌   | 255/391 [02:14<01:04,  2.11it/s]\u001b[A\n",
            " 65%|██████▌   | 256/391 [02:15<01:02,  2.15it/s]\u001b[A\n",
            " 66%|██████▌   | 257/391 [02:15<01:00,  2.21it/s]\u001b[A\n",
            " 66%|██████▌   | 258/391 [02:16<00:59,  2.24it/s]\u001b[A\n",
            " 66%|██████▌   | 259/391 [02:16<00:58,  2.25it/s]\u001b[A\n",
            " 66%|██████▋   | 260/391 [02:17<00:57,  2.26it/s]\u001b[A\n",
            " 67%|██████▋   | 261/391 [02:17<00:57,  2.28it/s]\u001b[A\n",
            " 67%|██████▋   | 262/391 [02:18<00:56,  2.28it/s]\u001b[A\n",
            " 67%|██████▋   | 263/391 [02:18<00:55,  2.29it/s]\u001b[A\n",
            " 68%|██████▊   | 264/391 [02:18<00:55,  2.29it/s]\u001b[A\n",
            " 68%|██████▊   | 265/391 [02:19<00:54,  2.30it/s]\u001b[A\n",
            " 68%|██████▊   | 266/391 [02:19<00:54,  2.30it/s]\u001b[A\n",
            " 68%|██████▊   | 267/391 [02:20<00:54,  2.29it/s]\u001b[A\n",
            " 69%|██████▊   | 268/391 [02:20<00:54,  2.27it/s]\u001b[A\n",
            " 69%|██████▉   | 269/391 [02:21<00:53,  2.28it/s]\u001b[A\n",
            " 69%|██████▉   | 270/391 [02:21<00:53,  2.28it/s]\u001b[A\n",
            " 69%|██████▉   | 271/391 [02:21<00:52,  2.27it/s]\u001b[A\n",
            " 70%|██████▉   | 272/391 [02:22<00:51,  2.29it/s]\u001b[A\n",
            " 70%|██████▉   | 273/391 [02:22<00:51,  2.31it/s]\u001b[A\n",
            " 70%|███████   | 274/391 [02:23<00:50,  2.30it/s]\u001b[A\n",
            " 70%|███████   | 275/391 [02:23<00:52,  2.23it/s]\u001b[A\n",
            " 71%|███████   | 276/391 [02:24<00:59,  1.94it/s]\u001b[A\n",
            " 71%|███████   | 277/391 [02:25<01:05,  1.74it/s]\u001b[A\n",
            " 71%|███████   | 278/391 [02:25<01:06,  1.69it/s]\u001b[A\n",
            " 71%|███████▏  | 279/391 [02:26<01:03,  1.76it/s]\u001b[A\n",
            " 72%|███████▏  | 280/391 [02:26<00:58,  1.89it/s]\u001b[A\n",
            " 72%|███████▏  | 281/391 [02:27<00:55,  1.98it/s]\u001b[A\n",
            " 72%|███████▏  | 282/391 [02:27<00:52,  2.06it/s]\u001b[A\n",
            " 72%|███████▏  | 283/391 [02:28<00:50,  2.13it/s]\u001b[A\n",
            " 73%|███████▎  | 284/391 [02:28<00:48,  2.19it/s]\u001b[A\n",
            " 73%|███████▎  | 285/391 [02:28<00:47,  2.23it/s]\u001b[A\n",
            " 73%|███████▎  | 286/391 [02:29<00:46,  2.25it/s]\u001b[A\n",
            " 73%|███████▎  | 287/391 [02:29<00:45,  2.27it/s]\u001b[A\n",
            " 74%|███████▎  | 288/391 [02:30<00:45,  2.27it/s]\u001b[A\n",
            " 74%|███████▍  | 289/391 [02:30<00:44,  2.28it/s]\u001b[A\n",
            " 74%|███████▍  | 290/391 [02:31<00:43,  2.30it/s]\u001b[A\n",
            " 74%|███████▍  | 291/391 [02:31<00:43,  2.30it/s]\u001b[A\n",
            " 75%|███████▍  | 292/391 [02:31<00:42,  2.30it/s]\u001b[A\n",
            " 75%|███████▍  | 293/391 [02:32<00:42,  2.31it/s]\u001b[A\n",
            " 75%|███████▌  | 294/391 [02:32<00:42,  2.30it/s]\u001b[A\n",
            " 75%|███████▌  | 295/391 [02:33<00:41,  2.29it/s]\u001b[A\n",
            " 76%|███████▌  | 296/391 [02:33<00:41,  2.28it/s]\u001b[A\n",
            " 76%|███████▌  | 297/391 [02:34<00:41,  2.28it/s]\u001b[A\n",
            " 76%|███████▌  | 298/391 [02:34<00:40,  2.30it/s]\u001b[A\n",
            " 76%|███████▋  | 299/391 [02:34<00:39,  2.31it/s]\u001b[A\n",
            " 77%|███████▋  | 300/391 [02:35<00:39,  2.31it/s]\u001b[A\n",
            " 77%|███████▋  | 301/391 [02:35<00:39,  2.29it/s]\u001b[A\n",
            " 77%|███████▋  | 302/391 [02:36<00:42,  2.11it/s]\u001b[A\n",
            " 77%|███████▋  | 303/391 [02:37<00:46,  1.88it/s]\u001b[A\n",
            " 78%|███████▊  | 304/391 [02:37<00:50,  1.71it/s]\u001b[A\n",
            " 78%|███████▊  | 305/391 [02:38<00:51,  1.68it/s]\u001b[A\n",
            " 78%|███████▊  | 306/391 [02:38<00:46,  1.83it/s]\u001b[A\n",
            " 79%|███████▊  | 307/391 [02:39<00:42,  1.96it/s]\u001b[A\n",
            " 79%|███████▉  | 308/391 [02:39<00:40,  2.05it/s]\u001b[A\n",
            " 79%|███████▉  | 309/391 [02:40<00:38,  2.11it/s]\u001b[A\n",
            " 79%|███████▉  | 310/391 [02:40<00:37,  2.15it/s]\u001b[A\n",
            " 80%|███████▉  | 311/391 [02:41<00:36,  2.17it/s]\u001b[A\n",
            " 80%|███████▉  | 312/391 [02:41<00:35,  2.21it/s]\u001b[A\n",
            " 80%|████████  | 313/391 [02:41<00:34,  2.24it/s]\u001b[A\n",
            " 80%|████████  | 314/391 [02:42<00:34,  2.25it/s]\u001b[A\n",
            " 81%|████████  | 315/391 [02:42<00:33,  2.26it/s]\u001b[A\n",
            " 81%|████████  | 316/391 [02:43<00:33,  2.26it/s]\u001b[A\n",
            " 81%|████████  | 317/391 [02:43<00:32,  2.29it/s]\u001b[A\n",
            " 81%|████████▏ | 318/391 [02:44<00:31,  2.30it/s]\u001b[A\n",
            " 82%|████████▏ | 319/391 [02:44<00:31,  2.31it/s]\u001b[A\n",
            " 82%|████████▏ | 320/391 [02:44<00:30,  2.32it/s]\u001b[A\n",
            " 82%|████████▏ | 321/391 [02:45<00:30,  2.31it/s]\u001b[A\n",
            " 82%|████████▏ | 322/391 [02:45<00:29,  2.31it/s]\u001b[A\n",
            " 83%|████████▎ | 323/391 [02:46<00:29,  2.32it/s]\u001b[A\n",
            " 83%|████████▎ | 324/391 [02:46<00:28,  2.32it/s]\u001b[A\n",
            " 83%|████████▎ | 325/391 [02:47<00:28,  2.31it/s]\u001b[A\n",
            " 83%|████████▎ | 326/391 [02:47<00:28,  2.29it/s]\u001b[A\n",
            " 84%|████████▎ | 327/391 [02:47<00:27,  2.29it/s]\u001b[A\n",
            " 84%|████████▍ | 328/391 [02:48<00:27,  2.29it/s]\u001b[A\n",
            " 84%|████████▍ | 329/391 [02:49<00:30,  2.05it/s]\u001b[A\n",
            " 84%|████████▍ | 330/391 [02:49<00:33,  1.84it/s]\u001b[A\n",
            " 85%|████████▍ | 331/391 [02:50<00:34,  1.75it/s]\u001b[A\n",
            " 85%|████████▍ | 332/391 [02:51<00:43,  1.35it/s]\u001b[A\n",
            " 85%|████████▌ | 333/391 [02:51<00:37,  1.53it/s]\u001b[A\n",
            " 85%|████████▌ | 334/391 [02:52<00:33,  1.69it/s]\u001b[A\n",
            " 86%|████████▌ | 335/391 [02:52<00:30,  1.83it/s]\u001b[A\n",
            " 86%|████████▌ | 336/391 [02:53<00:28,  1.93it/s]\u001b[A\n",
            " 86%|████████▌ | 337/391 [02:53<00:26,  2.02it/s]\u001b[A\n",
            " 86%|████████▋ | 338/391 [02:54<00:25,  2.09it/s]\u001b[A\n",
            " 87%|████████▋ | 339/391 [02:54<00:24,  2.15it/s]\u001b[A\n",
            " 87%|████████▋ | 340/391 [02:55<00:23,  2.18it/s]\u001b[A\n",
            " 87%|████████▋ | 341/391 [02:55<00:22,  2.22it/s]\u001b[A\n",
            " 87%|████████▋ | 342/391 [02:55<00:21,  2.24it/s]\u001b[A\n",
            " 88%|████████▊ | 343/391 [02:56<00:21,  2.27it/s]\u001b[A\n",
            " 88%|████████▊ | 344/391 [02:56<00:20,  2.29it/s]\u001b[A\n",
            " 88%|████████▊ | 345/391 [02:57<00:20,  2.27it/s]\u001b[A\n",
            " 88%|████████▊ | 346/391 [02:57<00:19,  2.28it/s]\u001b[A\n",
            " 89%|████████▊ | 347/391 [02:58<00:19,  2.28it/s]\u001b[A\n",
            " 89%|████████▉ | 348/391 [02:58<00:19,  2.26it/s]\u001b[A\n",
            " 89%|████████▉ | 349/391 [02:58<00:18,  2.27it/s]\u001b[A\n",
            " 90%|████████▉ | 350/391 [02:59<00:18,  2.25it/s]\u001b[A\n",
            " 90%|████████▉ | 351/391 [02:59<00:17,  2.26it/s]\u001b[A\n",
            " 90%|█████████ | 352/391 [03:00<00:17,  2.26it/s]\u001b[A\n",
            " 90%|█████████ | 353/391 [03:00<00:16,  2.28it/s]\u001b[A\n",
            " 91%|█████████ | 354/391 [03:01<00:16,  2.28it/s]\u001b[A\n",
            " 91%|█████████ | 355/391 [03:01<00:17,  2.05it/s]\u001b[A\n",
            " 91%|█████████ | 356/391 [03:02<00:18,  1.84it/s]\u001b[A\n",
            " 91%|█████████▏| 357/391 [03:03<00:19,  1.72it/s]\u001b[A\n",
            " 92%|█████████▏| 358/391 [03:03<00:19,  1.69it/s]\u001b[A\n",
            " 92%|█████████▏| 359/391 [03:04<00:17,  1.81it/s]\u001b[A\n",
            " 92%|█████████▏| 360/391 [03:04<00:16,  1.93it/s]\u001b[A\n",
            " 92%|█████████▏| 361/391 [03:05<00:14,  2.03it/s]\u001b[A\n",
            " 93%|█████████▎| 362/391 [03:05<00:13,  2.10it/s]\u001b[A\n",
            " 93%|█████████▎| 363/391 [03:05<00:12,  2.16it/s]\u001b[A\n",
            " 93%|█████████▎| 364/391 [03:06<00:12,  2.19it/s]\u001b[A\n",
            " 93%|█████████▎| 365/391 [03:06<00:11,  2.22it/s]\u001b[A\n",
            " 94%|█████████▎| 366/391 [03:07<00:11,  2.22it/s]\u001b[A\n",
            " 94%|█████████▍| 367/391 [03:07<00:10,  2.24it/s]\u001b[A\n",
            " 94%|█████████▍| 368/391 [03:08<00:10,  2.24it/s]\u001b[A\n",
            " 94%|█████████▍| 369/391 [03:08<00:09,  2.23it/s]\u001b[A\n",
            " 95%|█████████▍| 370/391 [03:09<00:09,  2.25it/s]\u001b[A\n",
            " 95%|█████████▍| 371/391 [03:09<00:08,  2.27it/s]\u001b[A\n",
            " 95%|█████████▌| 372/391 [03:09<00:08,  2.29it/s]\u001b[A\n",
            " 95%|█████████▌| 373/391 [03:10<00:07,  2.29it/s]\u001b[A\n",
            " 96%|█████████▌| 374/391 [03:10<00:07,  2.28it/s]\u001b[A\n",
            " 96%|█████████▌| 375/391 [03:11<00:07,  2.28it/s]\u001b[A\n",
            " 96%|█████████▌| 376/391 [03:11<00:06,  2.25it/s]\u001b[A\n",
            " 96%|█████████▋| 377/391 [03:12<00:06,  2.27it/s]\u001b[A\n",
            " 97%|█████████▋| 378/391 [03:12<00:05,  2.27it/s]\u001b[A\n",
            " 97%|█████████▋| 379/391 [03:12<00:05,  2.27it/s]\u001b[A\n",
            " 97%|█████████▋| 380/391 [03:13<00:04,  2.26it/s]\u001b[A\n",
            " 97%|█████████▋| 381/391 [03:13<00:04,  2.27it/s]\u001b[A\n",
            " 98%|█████████▊| 382/391 [03:14<00:04,  2.02it/s]\u001b[A\n",
            " 98%|█████████▊| 383/391 [03:15<00:04,  1.86it/s]\u001b[A\n",
            " 98%|█████████▊| 384/391 [03:15<00:03,  1.81it/s]\u001b[A\n",
            " 98%|█████████▊| 385/391 [03:16<00:03,  1.81it/s]\u001b[A\n",
            " 99%|█████████▊| 386/391 [03:16<00:02,  1.96it/s]\u001b[A\n",
            " 99%|█████████▉| 387/391 [03:17<00:01,  2.07it/s]\u001b[A\n",
            " 99%|█████████▉| 388/391 [03:17<00:01,  2.16it/s]\u001b[A\n",
            " 99%|█████████▉| 389/391 [03:17<00:00,  2.23it/s]\u001b[A\n",
            "100%|█████████▉| 390/391 [03:18<00:00,  2.29it/s]\u001b[A\n",
            "100%|██████████| 391/391 [03:18<00:00,  1.97it/s]\n",
            "100%|██████████| 1/1 [03:18<00:00, 198.63s/it]\n"
          ]
        }
      ]
    },
    {
      "cell_type": "code",
      "source": [
        "train_losses, train_accs, test_acc"
      ],
      "metadata": {
        "colab": {
          "base_uri": "https://localhost:8080/"
        },
        "id": "oGRANChfWfer",
        "outputId": "17adb134-1753-4ce5-f35b-8083c6e29e15"
      },
      "execution_count": 99,
      "outputs": [
        {
          "output_type": "execute_result",
          "data": {
            "text/plain": [
              "([2.3064016039719055], [tensor(0.0007)], tensor(0.))"
            ]
          },
          "metadata": {},
          "execution_count": 99
        }
      ]
    },
    {
      "cell_type": "code",
      "execution_count": 98,
      "metadata": {
        "id": "-x-F7ynZtKwt",
        "colab": {
          "base_uri": "https://localhost:8080/",
          "height": 873
        },
        "outputId": "9fde7269-69e6-4db0-f3c4-31861991807e"
      },
      "outputs": [
        {
          "output_type": "display_data",
          "data": {
            "text/plain": [
              "<Figure size 1000x500 with 1 Axes>"
            ],
            "image/png": "[encoded data removed]"
          },
          "metadata": {}
        },
        {
          "output_type": "display_data",
          "data": {
            "text/plain": [
              "<Figure size 1000x500 with 1 Axes>"
            ],
            "image/png": "[encoded data removed]"
          },
          "metadata": {}
        }
      ],
      "source": [
        "# Plot the training loss\n",
        "plt.figure(figsize=(10, 5))\n",
        "plt.plot(train_losses, label=\"train\")\n",
        "plt.legend()\n",
        "plt.show()\n",
        "\n",
        "# Plot the training accuracy\n",
        "plt.figure(figsize=(10, 5))\n",
        "plt.plot(train_accs, label=\"train\")\n",
        "plt.legend()\n",
        "plt.show()\n"
      ]
    },
    {
      "cell_type": "markdown",
      "metadata": {
        "id": "qv3SBeNMtKwt"
      },
      "source": [
        "## What is my transformer doing? Visualizing the attention matrices\n",
        "Transformers offer a great tool for visualisation. Indeed, we can look at the attention matrices to see what is our attention block looking at. This allows to visualise what data is the transformer paying attention. It could be super useful to identify biases on which the network has been focusing.\n",
        "\n",
        "Imagine you want to classify dogs and cats, but in your training data dogs always have a red collar. When you use your classifier on a cat with a red collar it classifies it as a dog! Looking at the attention matrix you can see that the transformer just look at the cats collar and doesn't pay attention to cat itself. You just have identified a bias in your data! You can now fix it by collecting data of dogs without collars or of cats with red collars.\n",
        "\n",
        "\n",
        "The idea here is to look at the attention matrices. We will look into a pretrained ViT called DiNO. Dino has been train with a self-supervised training. We will visualize the attention matrices of this network for some images.\n",
        "\n",
        "We will use the timm library which has lots of models implemented with pretrained weights.\n",
        "\n",
        "First let's list all the models that have been trained with the dino procedure:"
      ]
    },
    {
      "cell_type": "code",
      "execution_count": null,
      "metadata": {
        "id": "BQpwRS6itKwt"
      },
      "outputs": [],
      "source": [
        "timm.list_models('*vit*dino*')"
      ]
    },
    {
      "cell_type": "code",
      "execution_count": null,
      "metadata": {
        "id": "oD5u-UNQtKwt"
      },
      "outputs": [],
      "source": [
        "dino = timm.create_model('vit_base_patch8_224_dino', pretrained=True, img_size=480).eval()"
      ]
    },
    {
      "cell_type": "markdown",
      "metadata": {
        "id": "YMkmp4u2tKwt"
      },
      "source": [
        "We will use the torchvision to extract the attention matrix. Look at this tutorial on how to extract certain node in the computational network of a model: https://pytorch.org/vision/stable/feature_extraction.html\n",
        "\n",
        "##### Question 13\n",
        "First, isolate for each block the name of the node which correspond to the attention matrix.\n",
        "To guide you, you can look at the Timm library implementation of ViT.\n",
        "\n",
        "https://github.com/huggingface/pytorch-image-models/blob/7501972cd61dde7428164041b0a6dd8fea60c4d4/timm/models/vision_transformer.py"
      ]
    },
    {
      "cell_type": "code",
      "execution_count": null,
      "metadata": {
        "id": "5AU-RJ-utKwu"
      },
      "outputs": [],
      "source": [
        "# To complete"
      ]
    },
    {
      "cell_type": "markdown",
      "metadata": {
        "id": "edqrD-UvtKwu"
      },
      "source": [
        "##### Question 14\n",
        "Create the feature extractor that outputs all the attention matrices"
      ]
    },
    {
      "cell_type": "code",
      "execution_count": null,
      "metadata": {
        "id": "doXwsh2qtKwu"
      },
      "outputs": [],
      "source": [
        "# To complete"
      ]
    },
    {
      "cell_type": "markdown",
      "metadata": {
        "id": "KIvfdtwhtKwu"
      },
      "source": [
        "##### Question 15\n",
        "Now, find some images online and visualize the attention matrices. Look for images with multiple objects.\n",
        "We will visualize the matrix corresponding to the class token with all the other tokens. Make sure to reshape them so that they have an image format. Plot every block head attention matrix in a single row. Comment. Plot also the last layer attentions superoposed on the real images.\n",
        "\n",
        "We provide the code to process the image from an image url.\n",
        "\n",
        "Tip: For easy reshaping of tensor, look into the `einops` library.\n",
        "\n",
        "Tip 2: To better visualize the post softmax attention, you can clamp the values and renormalize. Otherwise, a single token can have too much attention and will not allow to visualize the rest of the tokens."
      ]
    },
    {
      "cell_type": "code",
      "execution_count": null,
      "metadata": {
        "id": "yXFMT0ugtKwu"
      },
      "outputs": [],
      "source": [
        "\n",
        "def get_img_from_url(url):\n",
        "    response = requests.get(url)\n",
        "    img = Image.open(BytesIO(response.content))\n",
        "    img = img.convert('RGB')\n",
        "    img = img.resize((480, 480))\n",
        "    img = transforms.ToTensor()(img)\n",
        "    img = transforms.Normalize((0.485, 0.456, 0.406), (0.229, 0.224, 0.225))(img)\n",
        "    img = img.unsqueeze(0)\n",
        "    return img"
      ]
    },
    {
      "cell_type": "code",
      "execution_count": null,
      "metadata": {
        "id": "CRmmhOJntKwu"
      },
      "outputs": [],
      "source": [
        "# To complete"
      ]
    },
    {
      "cell_type": "code",
      "execution_count": null,
      "metadata": {
        "id": "bxcf4hH2tKwv"
      },
      "outputs": [],
      "source": [
        "def plot_attn_matrix(attn_matrices):\n",
        "    # To complete\n",
        "\n",
        "plot_attn_matrix(attn_matrices)\n"
      ]
    },
    {
      "cell_type": "code",
      "execution_count": null,
      "metadata": {
        "id": "GkSzCDBHtKwv"
      },
      "outputs": [],
      "source": [
        "# Overlapp the attention matrix with the image (only the last block)\n",
        "def plot_attn_matrix_with_image(attn_matrices, img):\n",
        "    # To complete\n",
        "\n",
        "plot_attn_matrix_with_image(attn_matrices, img)\n"
      ]
    },
    {
      "cell_type": "code",
      "execution_count": null,
      "metadata": {
        "id": "VqLDmNJ9tKwv"
      },
      "outputs": [],
      "source": []
    }
  ],
  "metadata": {
    "kernelspec": {
      "display_name": "TD_CV",
      "language": "python",
      "name": "python3"
    },
    "language_info": {
      "codemirror_mode": {
        "name": "ipython",
        "version": 3
      },
      "file_extension": ".py",
      "mimetype": "text/x-python",
      "name": "python",
      "nbconvert_exporter": "python",
      "pygments_lexer": "ipython3",
      "version": "3.10.0"
    },
    "orig_nbformat": 4,
    "vscode": {
      "interpreter": {
        "hash": "84fe68c32616dcb624e285180337c2501cb5688042d5b0690c59ead12741ee4f"
      }
    },
    "colab": {
      "provenance": [],
      "include_colab_link": true
    }
  },
  "nbformat": 4,
  "nbformat_minor": 0
}